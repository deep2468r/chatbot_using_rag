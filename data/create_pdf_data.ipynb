{
 "cells": [
  {
   "cell_type": "markdown",
   "metadata": {},
   "source": [
    "# Read the pdf files and store its data in a json file"
   ]
  },
  {
   "cell_type": "code",
   "execution_count": 15,
   "metadata": {},
   "outputs": [],
   "source": [
    "import os"
   ]
  },
  {
   "cell_type": "code",
   "execution_count": 16,
   "metadata": {},
   "outputs": [
    {
     "data": {
      "text/plain": [
       "['HR-132-Full-Time-Faculty-Development-and-Evaluation-Process-FINAL.pdf',\n",
       " 'Sexual Assault & Sexual Violence _ Loyalist College.pdf',\n",
       " 'ADMIN 126 Including Indigenous Knowledge and Community Members in College Activities _ Loyalist College.pdf',\n",
       " 'AOP 230 Student Participation in Formal College Activities _ Loyalist College.pdf',\n",
       " 'Student Code of Conduct _ Loyalist College.pdf',\n",
       " 'FIN 515 Financial Administration of Research Funds _ Loyalist College.pdf',\n",
       " 'AOP 231 Academic Appeal Process _ Loyalist College.pdf',\n",
       " 'ADMIN 123 Commercialization _ Loyalist College.pdf',\n",
       " 'Academic Operating Policy_ General Education _ Loyalist College.pdf',\n",
       " 'AOP 224 Evaluation of Student Performance _ Loyalist College.pdf',\n",
       " 'AOP 218 Academic Freedom _ Loyalist College.pdf',\n",
       " 'AOP 243 Co-operative Education Programs _ Loyalist College.pdf',\n",
       " 'FIN 504 Business Expense Reimbursements Policy _ Loyalist College.pdf',\n",
       " 'ADMIN 122 Service & Support Animals on Campus _ Loyalist College.pdf',\n",
       " 'FIN 504 Business Expense Reimbursements Procedure _ Loyalist College.pdf',\n",
       " 'AOP 221 Prior Learning Assessment and Recognition, Transfer Credit_Advanced Standing, Articulation Agreements and Exemption _ Loyalist College.pdf',\n",
       " 'HR 121 Hiring for Indigenous Designated Positions _ Loyalist College.pdf',\n",
       " 'AOP 213 Academic Coordinators _ Loyalist College.pdf',\n",
       " 'ACAD 105 Advisory Committees _ Loyalist College.pdf',\n",
       " 'AOP 206 Copyright Ownership _ Loyalist College.pdf',\n",
       " 'AOP 201 Code of Conduct_ Academic Employees _ Loyalist College.pdf',\n",
       " 'STUD 204 Fit to Learn _ Loyalist College.pdf',\n",
       " 'Academic Freedom Statement _ Loyalist College.pdf',\n",
       " 'AOP 234 Accommodation of Students at Risk_ Leaves of Absence from Academics and_or Residence _ Loyalist College.pdf',\n",
       " 'AOP 219 Program Quality Assurance _ Loyalist College.pdf',\n",
       " 'AOP 225 Post-Secondary Registration and Graduation _ Loyalist College.pdf',\n",
       " 'AOP 238 Surveys _ Loyalist College.pdf',\n",
       " 'AOP 236 International Travel and Safety - Students _ Loyalist College.pdf',\n",
       " 'OHS 008 Respectful College Community _ Loyalist College.pdf',\n",
       " 'ADMIN 102 Smoke-Free Campus _ Loyalist College.pdf',\n",
       " 'Research Data Management Strategy _ Loyalist College.pdf',\n",
       " 'AOP 237 Student Learning Experience Survey _ Loyalist College.pdf',\n",
       " 'AOP 200 Accommodation for Religious Observance _ Loyalist College.pdf',\n",
       " 'AOP 226 Admissions _ Loyalist College.pdf',\n",
       " 'AOP 202 Planned Cancellation of Classes _ Loyalist College.pdf',\n",
       " 'ADMIN 124 International Student Recruitment Agent Management _ Loyalist College.pdf',\n",
       " 'ADMIN 105 Closing of the College _ Loyalist College.pdf',\n",
       " 'AOP 208 Academic Timetables _ Loyalist College.pdf',\n",
       " 'AOP 235 Intellectual Property _ Loyalist College.pdf',\n",
       " 'AOP 220 Integrity in Research and Scholarship _ Loyalist College.pdf',\n",
       " 'AOP 216 Academic Integrity _ Loyalist College.pdf',\n",
       " 'AOP 212 Program of Study Development, Renewal and Change Policy _ Loyalist College.pdf',\n",
       " 'EXT 102 Fundraising Prospect Clearance Policy _ Loyalist College.pdf',\n",
       " 'AOP 241 Non-core_Breadth Curriculum _ Loyalist College.pdf',\n",
       " 'Student-Code-of-Conduct-September-1-2022-FINAL.pdf']"
      ]
     },
     "execution_count": 16,
     "metadata": {},
     "output_type": "execute_result"
    }
   ],
   "source": [
    "# Read the filenames of pdf's in the folder\n",
    "\n",
    "DATA_DIR = \"./pdf_data/\"\n",
    "\n",
    "pdf_list = os.listdir(DATA_DIR)\n",
    "\n",
    "pdf_list"
   ]
  },
  {
   "cell_type": "code",
   "execution_count": 17,
   "metadata": {},
   "outputs": [],
   "source": [
    "from langchain.document_loaders import PyMuPDFLoader\n",
    "\n",
    "def load_pdf_with_langchain(pdf_path):\n",
    "    '''Read the pdf file from the path provided\n",
    "    \n",
    "    Parameters:\n",
    "    pdf_path -> Path of the pdf file\n",
    "\n",
    "    Returns:\n",
    "    documents - \n",
    "    '''\n",
    "    loader = PyMuPDFLoader(pdf_path)\n",
    "    document = loader.load()\n",
    "    return document"
   ]
  },
  {
   "cell_type": "code",
   "execution_count": 18,
   "metadata": {},
   "outputs": [],
   "source": [
    "# Read the pdf files\n",
    "\n",
    "pdf_data = []\n",
    "\n",
    "for pdf_name in pdf_list:\n",
    "    pdf_text = load_pdf_with_langchain(DATA_DIR + pdf_name)\n",
    "    pdf_data.append(pdf_text)"
   ]
  },
  {
   "cell_type": "code",
   "execution_count": 19,
   "metadata": {},
   "outputs": [
    {
     "data": {
      "text/plain": [
       "[[Document(metadata={'source': './Policies_Data/HR-132-Full-Time-Faculty-Development-and-Evaluation-Process-FINAL.pdf', 'file_path': './Policies_Data/HR-132-Full-Time-Faculty-Development-and-Evaluation-Process-FINAL.pdf', 'page': 0, 'total_pages': 2, 'format': 'PDF 1.5', 'title': '', 'author': 'Kirsten Mason', 'subject': '', 'keywords': '', 'creator': 'Acrobat PDFMaker 18 for Word', 'producer': 'Adobe PDF Library 15.0', 'creationDate': \"D:20200817013617-04'00'\", 'modDate': \"D:20200817013619-04'00'\", 'trapped': ''}, page_content='Next Review Date: Date August 12, 2023  \\n \\nPage 1 of 2 \\n \\nCOLLEGE OPERATIONAL POLICY \\n \\nPolicy Number: HR 132 \\nPolicy Title: Full-Time Faculty Development and Evaluation \\nProcess \\nSupersedes Existing Policy? Y \\nPolicy Owner: Executive Director, Human Resources \\nAssociated Procedure: Y \\nDate Last Approved by the CET: Date August 12, 2020 \\n \\n \\n1. Introduction and Purpose \\nThe Loyalist College faculty development and evaluation process is designed, developed and \\nadministered as a partnership between faculty and their supervisors. \\nLoyalist College is committed to the implementation of faculty development and a performance review \\nprocess for all probationary, non-probationary and full-time faculty. The process is intended to support \\nfaculty in their teaching and learning strategies, professional growth, institutional effectiveness and \\nprogram quality assurance. This process should support faculty in examining how their knowledge, \\nskills and curriculum delivery strategies contribute to the high-quality learning experiences available to \\nour students.  \\n2. Application \\nThis section applies to all full-time, probationary and non-probationary faculty. \\n \\n3. Policy Statement \\nAll full-time, non-probationary faculty will be subject to a formative annual faculty development and \\nevaluation process. \\nAll probationary faculty members will be subject to a completed faculty development and evaluation \\nprocess as per the requirements of the most current clauses of the applicable collective agreements. \\n3.1 Faculty Evaluation \\nThe College’s faculty and evaluation process includes explicit and systematic feedback on teaching \\neffectiveness, which includes (but is not limited to) the following:    \\n• self-reflection;  \\n• student input gathered as feedback from the student learning experience survey; and \\n• direct supervisors of faculty who work at Loyalist. \\n \\n \\n'),\n",
       "  Document(metadata={'source': './Policies_Data/HR-132-Full-Time-Faculty-Development-and-Evaluation-Process-FINAL.pdf', 'file_path': './Policies_Data/HR-132-Full-Time-Faculty-Development-and-Evaluation-Process-FINAL.pdf', 'page': 1, 'total_pages': 2, 'format': 'PDF 1.5', 'title': '', 'author': 'Kirsten Mason', 'subject': '', 'keywords': '', 'creator': 'Acrobat PDFMaker 18 for Word', 'producer': 'Adobe PDF Library 15.0', 'creationDate': \"D:20200817013617-04'00'\", 'modDate': \"D:20200817013619-04'00'\", 'trapped': ''}, page_content='Next Review Date: Date August 12, 2023  \\n \\nPage 2 of 2 \\n \\n3.2 Faculty Development \\nLoyalist College supports faculty in the pursuit of professional development activities, both within and \\noutside of the college, in order to ensure currency of faculty knowledge and promote curricular and \\ninstructional innovation. \\nFaculty may also pursue further academic, professional, or technical education or maintain currency in \\ntheir fields by participating in conferences, meetings, industry placements, job shadowing or \\nexchanges.   \\n4. Related Documents or Links \\n• AOP 224 Evaluation of Student Performance \\n• AOP 201 Code of Conduct: Academic Employees  \\n• AOP 214 Professional Development Opportunities  \\n• Annual Faculty Development Self-Assessment Form \\n• Student Learning Experience Survey – Rationale and Suggested Interpretation Guide \\n• HR 406 - Credential Studies Funding \\n• HR 231 Sabbatical/Professional Development Leave \\n \\n5. References \\n• Academic Employees Collective Agreement  \\n• Postsecondary Education Quality and Assessment Board Handbook for Ontario Colleges \\n \\n')],\n",
       " [Document(metadata={'source': './Policies_Data/Sexual Assault & Sexual Violence _ Loyalist College.pdf', 'file_path': './Policies_Data/Sexual Assault & Sexual Violence _ Loyalist College.pdf', 'page': 0, 'total_pages': 2, 'format': 'PDF 1.4', 'title': 'Sexual Assault & Sexual Violence : Loyalist College', 'author': '', 'subject': '', 'keywords': '', 'creator': 'Mozilla/5.0 (Windows NT 10.0; Win64; x64) AppleWebKit/537.36 (KHTML, like Gecko) Chrome/126.0.0.0 Safari/537.36', 'producer': 'Skia/PDF m126', 'creationDate': \"D:20240722164237+00'00'\", 'modDate': \"D:20240722164237+00'00'\", 'trapped': ''}, page_content='Sexual Assault & Sexual Violence\\nStatement from the President\\nLoyalist College values respect for all individuals, civility, diversity, dignity, equality and freedom. The\\nCollege is committed to maintaining a healthy and safe learning, living, social, recreational and working\\nenvironment. We are committed to maintaining a campus free of discrimination and harassment, and\\nstrive to foster an atmosphere of healthy attitudes and behaviours towards sexuality, sex and gender\\nroles. Loyalist will not tolerate behaviour that contributes to a hostile and inequitable learning and\\nworking environment.\\xa0 We take seriously our commitment to supporting those who experience sexual\\nviolence, and we work diligently on campus and with community partners on programs, policies and\\nresources to ensure that our campus remains free from sexual violence.\\nThis website provides quick access to the information contained in the College’s Sexual Assault and\\nSexual Violence Policy and Protocol. The Policy and Protocol provides procedures and resources to\\nsupport individuals and groups who may be directly or indirectly involved in working with persons who\\nhave experienced sexual violence.\\nI urge all members of the College community to review the Policy and Protocol to learn about options and\\nresources available to those who require support or who wish to support others. Please help to ensure\\nthat the College remains a safe and positive space where members of the College community feel able to\\nwork, learn and express themselves in a safe and respectful environment.\\nADMIN 125 Responding to Sexual Assault and Sexualized Violence Policy\\nADMIN 125 Procedure for Responding to Sexual Assault and Sexualized Violence – Students\\nADMIN 125 Procedure for Responding to Sexual Misconduct, Sexualized Assaults, and Sexualized\\nViolence – Employees\\nAppendix A: ADMIN 125 Responding to Sexual Assault and Sexualized Violence Form\\nMark Kirkpatrick\\nPresident and CEO\\nLoyalist College\\nIn accordance with Ministry requirements, Loyalist College reports annually to its Board of Governors on\\nsexual assault and sexualized violence education and disclosures. A copy of the annual report to the\\nBoard is available by contacting Andrea Paradise, Executive Assistant to the Board of Governors, at\\naparadise@loyalistcollege.com.\\nmyLoyalist\\n'),\n",
       "  Document(metadata={'source': './Policies_Data/Sexual Assault & Sexual Violence _ Loyalist College.pdf', 'file_path': './Policies_Data/Sexual Assault & Sexual Violence _ Loyalist College.pdf', 'page': 1, 'total_pages': 2, 'format': 'PDF 1.4', 'title': 'Sexual Assault & Sexual Violence : Loyalist College', 'author': '', 'subject': '', 'keywords': '', 'creator': 'Mozilla/5.0 (Windows NT 10.0; Win64; x64) AppleWebKit/537.36 (KHTML, like Gecko) Chrome/126.0.0.0 Safari/537.36', 'producer': 'Skia/PDF m126', 'creationDate': \"D:20240722164237+00'00'\", 'modDate': \"D:20240722164237+00'00'\", 'trapped': ''}, page_content='\\xa0\\n')],\n",
       " [Document(metadata={'source': './Policies_Data/ADMIN 126 Including Indigenous Knowledge and Community Members in College Activities _ Loyalist College.pdf', 'file_path': './Policies_Data/ADMIN 126 Including Indigenous Knowledge and Community Members in College Activities _ Loyalist College.pdf', 'page': 0, 'total_pages': 2, 'format': 'PDF 1.4', 'title': 'ADMIN 126 Including Indigenous Knowledge and Community Members in College Activities : Loyalist College', 'author': '', 'subject': '', 'keywords': '', 'creator': 'Mozilla/5.0 (Windows NT 10.0; Win64; x64) AppleWebKit/537.36 (KHTML, like Gecko) Chrome/126.0.0.0 Safari/537.36', 'producer': 'Skia/PDF m126', 'creationDate': \"D:20240722164319+00'00'\", 'modDate': \"D:20240722164319+00'00'\", 'trapped': ''}, page_content='College Operational Policy\\nPolicy Title:\\nIncluding Indigenous\\nKnowledge and Community\\nMembers in College Activities\\nNumber:\\nADMIN 126\\nPolicy Sponsor:\\xa0\\nOffice of the President\\nSupersedes Existing\\nPolicy:\\nNo\\nAssociated Procedure:\\nYes\\nPolicy Owner:\\nExecutive Director,\\nIndigenous\\nInitiatives and\\nReconciliation\\nNext Review Date:\\nOctober 2026\\nDate Last Approved\\nby the CET:\\nOctober 4, 2023\\n1.\\xa0 \\xa0 \\xa0 \\xa0Purpose\\nLoyalist is committed to working collaboratively with Indigenous Elders, Knowledge Keepers, and\\ncommunity members to build and support lasting relationships with Indigenous Peoples and\\ncommunities. After centuries of colonial practices that aimed to dispossess, assimilate, and oppress\\nIndigenous Peoples and their ways of life, it is essential that the College helps to create and support a\\nspace for Indigenous knowledge in a welcoming, respectful, and culturally appropriate way.\\nThe purpose of this policy is to affirm Loyalist’s commitment to reconciliation and to provide guidelines\\nthat will assist Loyalist College staff, faculty, and students to ethically include Indigenous community\\nmembers, Indigenous ways of knowing, and cultural traditions in College activities.\\n2.\\xa0 \\xa0 \\xa0 Application and Scope\\nThis policy applies to all departments and employees at all Loyalist College campuses and will be\\nconsistent whether the activity is delivered on-campus, off-campus or virtually.\\xa0 \\xa0\\n3.\\xa0 \\xa0 \\xa0 \\xa0Compliance\\nAll Loyalist College faculty, staff and students who wish to include Indigenous knowledge, cultural\\ntraditions and/or community members in their activities and events should:\\nconsult the Guidelines for Acknowledging Territory Protocols for Working with Elders, Knowledge\\nKeepers, and Community Members\\nmyLoyalist\\n'),\n",
       "  Document(metadata={'source': './Policies_Data/ADMIN 126 Including Indigenous Knowledge and Community Members in College Activities _ Loyalist College.pdf', 'file_path': './Policies_Data/ADMIN 126 Including Indigenous Knowledge and Community Members in College Activities _ Loyalist College.pdf', 'page': 1, 'total_pages': 2, 'format': 'PDF 1.4', 'title': 'ADMIN 126 Including Indigenous Knowledge and Community Members in College Activities : Loyalist College', 'author': '', 'subject': '', 'keywords': '', 'creator': 'Mozilla/5.0 (Windows NT 10.0; Win64; x64) AppleWebKit/537.36 (KHTML, like Gecko) Chrome/126.0.0.0 Safari/537.36', 'producer': 'Skia/PDF m126', 'creationDate': \"D:20240722164319+00'00'\", 'modDate': \"D:20240722164319+00'00'\", 'trapped': ''}, page_content='engage in consultation with the Tsi Titewayata’rό:roks Indigenous Centre prior to the planned\\nactivity.\\n4.\\xa0 \\xa0 \\xa0 \\xa0Related Documents\\nGuidelines for Acknowledging Territory Protocols for Working with Elders, Knowledge Keepers, and\\nCommunity Members\\nA’no:wara Learning Circle: Protocol for Use\\n5.\\xa0 \\xa0 \\xa0References\\nTruth and Reconciliation Commission of Canada: Calls to Action\\n')],\n",
       " [Document(metadata={'source': './Policies_Data/AOP 230 Student Participation in Formal College Activities _ Loyalist College.pdf', 'file_path': './Policies_Data/AOP 230 Student Participation in Formal College Activities _ Loyalist College.pdf', 'page': 0, 'total_pages': 2, 'format': 'PDF 1.4', 'title': 'AOP 230 Student Participation in Formal College Activities : Loyalist College', 'author': '', 'subject': '', 'keywords': '', 'creator': 'Mozilla/5.0 (Windows NT 10.0; Win64; x64) AppleWebKit/537.36 (KHTML, like Gecko) Chrome/126.0.0.0 Safari/537.36', 'producer': 'Skia/PDF m126', 'creationDate': \"D:20240722165147+00'00'\", 'modDate': \"D:20240722165147+00'00'\", 'trapped': ''}, page_content='Academic Operational Policies\\nSubject:\\nStudent Participation in Formal College Activities\\nNumber:\\n\\xa0AOP 230\\nIssued by:\\nVice-President Academic\\nDate Issued:\\n\\xa0June 2013\\nSupersedes:\\nN/A\\nPage:\\n\\xa01 of 2\\nLinks:\\nProcedure\\nEvaluation of Student Performance – AOP 224\\nAcademic Appeal Process – AOP 231\\nStudent Participation Form\\xa0(Appendix A)\\nStudent Accommodation Request\\xa0(Appendix B)\\nRevision\\nDate:\\n\\xa0September 2014\\nStudent Participation in Formal College Activities\\n1. Introduction and Purpose\\xa0\\nThe purpose of\\xa0this policy is to provide a mechanism to address evaluations missed by students\\nparticipating on Varsity Athletics teams, Student Government, the College Board of Governors or other\\nformal College activities.\\xa0\\xa0\\xa0\\n2. Application\\xa0\\nThis\\xa0policy applies to all Loyalist College students\\xa0engaged in formal College activities.\\xa0\\n\\xa03. Policy Statement\\xa0\\nAs the participation of students in Varsity Athletics, Student Government, the College Board of Governors\\nand other formal College activities benefits the College as a whole, the College will recognize the time\\ncommitment required of students who are members of the Varsity Athletics teams, Student Government,\\nthe College Board of Governors and those who participate in other approved College activities, who are in\\ncurrent good academic standing, by rescheduling evaluation sessions, if requested.\\xa0\\nStudents are to notify their course faculty member of their need for a rescheduled evaluation 10 days,\\nwhen possible, prior to the scheduled date.\\xa0\\nFaculty members are to extend reasonable consideration to members of Varsity Athletics teams, Student\\nGovernment, the College Board of Governors, and any student participating in a formal College activity\\nby:\\xa0\\nExtending deadlines for submission of assignments, lab reports, and similar projects.\\xa0\\nmyLoyalist\\n'),\n",
       "  Document(metadata={'source': './Policies_Data/AOP 230 Student Participation in Formal College Activities _ Loyalist College.pdf', 'file_path': './Policies_Data/AOP 230 Student Participation in Formal College Activities _ Loyalist College.pdf', 'page': 1, 'total_pages': 2, 'format': 'PDF 1.4', 'title': 'AOP 230 Student Participation in Formal College Activities : Loyalist College', 'author': '', 'subject': '', 'keywords': '', 'creator': 'Mozilla/5.0 (Windows NT 10.0; Win64; x64) AppleWebKit/537.36 (KHTML, like Gecko) Chrome/126.0.0.0 Safari/537.36', 'producer': 'Skia/PDF m126', 'creationDate': \"D:20240722165147+00'00'\", 'modDate': \"D:20240722165147+00'00'\", 'trapped': ''}, page_content='Giving alternative assignments.\\xa0\\nBeing lenient about attendance, late arrival to, or early exit from, classroom sessions, labs or\\npracticums.\\xa0\\nAdjusting the regular academic timetable of the student to facilitate the Varsity Athletics, Student\\nGovernment, College Board of Governors, or other College sanctioned activities, where possible.\\xa0\\nIn the case of a missed evaluation or lab session, a revised evaluation or an alternate lab session will be\\nrescheduled as soon as possible after the original date.\\xa0\\nIf the student does not believe the accommodation offered by the faculty member is reasonable, the\\ndecision can be appealed to the Dean or designate, as per the Academic Appeal policy (AOP231).\\xa0\\n4. References\\xa0\\nN/A\\xa0\\n')],\n",
       " [Document(metadata={'source': './Policies_Data/Student Code of Conduct _ Loyalist College.pdf', 'file_path': './Policies_Data/Student Code of Conduct _ Loyalist College.pdf', 'page': 0, 'total_pages': 6, 'format': 'PDF 1.4', 'title': 'Student Code of Conduct : Loyalist College', 'author': '', 'subject': '', 'keywords': '', 'creator': 'Mozilla/5.0 (Windows NT 10.0; Win64; x64) AppleWebKit/537.36 (KHTML, like Gecko) Chrome/126.0.0.0 Safari/537.36', 'producer': 'Skia/PDF m126', 'creationDate': \"D:20240722163600+00'00'\", 'modDate': \"D:20240722163600+00'00'\", 'trapped': ''}, page_content='Student Code of Conduct\\nLoyalist College is a community of learners where respectful living and learning is a cherished principle.\\nThe College uses operational policies and the Student Code of Conduct to inform its students of its\\nexpectations for acceptable student conduct in academic and non-academic matters. The primary\\npurpose of the Loyalist College Student Code of Conduct is to be a guideline for appropriate non-academic\\nbehaviour across Loyalist College’s diversified community.\\nStudent Code of Conduct Complaints\\nLoyalist College believes all members of the College community have the right to study or work in an\\nenvironment that is safe, secure and supportive. The College expects students to be responsible for\\nconducting themselves in a manner that respects the rights of employees, other students and College\\nproperty. \\xa0\\nPlease provide as much detail as possible when completing the form below.\\nIf you have any questions about the Student Code of Conduct and/or completing this form, please email\\nconductcomplaints@loyalistcollege.com.\\nPlease note:\\n1. This form is for complaints against students under the Loyalist College Student Code of Conduct\\n2. Any member of the College community (student, staff, faculty) may bring a complaint under this\\nCode against a student for non-academic misbehaviour.\\n3. A complaint under this Code must be filed with the Vice-President, Student Life and Leadership, or\\nDesignate, within thirty (30) days of the alleged violation of the Code unless the Vice-President,\\nStudent Life and Leadership, or Designate, believes there are grounds for extending the deadline.\\n4. If the complaint is determined to not fall within the scope of this Code but may fall within the\\nscope of another College policy, the Complainant will be advised accordingly and instructed to\\nconsult the relevant policy(ies).\\n5. If the complaint is determined to not fall within the scope of this Code, the complaint will not\\nproceed.\\n6. The Vice-President, Student Life and Leadership will normally provide the person/people named in\\nthe complaint with a summary of the complaint.\\n7. It is a breach this Code to retaliate against someone who reports a complaint.\\n8. It is a breach of this Code to make a false or unfounded complaint with malicious or frivolous\\nintent.\\n9. Anonymous complaints will not be processed.\\nmyLoyalist\\n'),\n",
       "  Document(metadata={'source': './Policies_Data/Student Code of Conduct _ Loyalist College.pdf', 'file_path': './Policies_Data/Student Code of Conduct _ Loyalist College.pdf', 'page': 1, 'total_pages': 6, 'format': 'PDF 1.4', 'title': 'Student Code of Conduct : Loyalist College', 'author': '', 'subject': '', 'keywords': '', 'creator': 'Mozilla/5.0 (Windows NT 10.0; Win64; x64) AppleWebKit/537.36 (KHTML, like Gecko) Chrome/126.0.0.0 Safari/537.36', 'producer': 'Skia/PDF m126', 'creationDate': \"D:20240722163600+00'00'\", 'modDate': \"D:20240722163600+00'00'\", 'trapped': ''}, page_content=\"Instructions:\\n1. Use the fields in the form below to provide as much detail as possible about the complaint.\\n2. Upon completion, submit the form. A copy will be sent to conductcomplaints@loyalistcollege.com.\\n3. You will also receive a copy of your submission to the email you provided for your records.\\xa0\\nA. Complainant's Information\\nThe person making the complaint and/or directly affected by the behaviour.\\nName (Required)\\nFirst\\nLast\\nStudent Number/Staff Email (Required)\\nProgram/Department (Required)\\nCampus/Satellite Location (Required)\\nBelleville\\nStudent/Staff Email (Required)\\nPhone\\nWhat is the best way to contact you?\\n Phone\\n Email\\nPlease select the response that best describes you. (Required)\\n I am the person directly affected by the situation.\\n\"),\n",
       "  Document(metadata={'source': './Policies_Data/Student Code of Conduct _ Loyalist College.pdf', 'file_path': './Policies_Data/Student Code of Conduct _ Loyalist College.pdf', 'page': 2, 'total_pages': 6, 'format': 'PDF 1.4', 'title': 'Student Code of Conduct : Loyalist College', 'author': '', 'subject': '', 'keywords': '', 'creator': 'Mozilla/5.0 (Windows NT 10.0; Win64; x64) AppleWebKit/537.36 (KHTML, like Gecko) Chrome/126.0.0.0 Safari/537.36', 'producer': 'Skia/PDF m126', 'creationDate': \"D:20240722163600+00'00'\", 'modDate': \"D:20240722163600+00'00'\", 'trapped': ''}, page_content=\" I am submitting the complaint on behalf of the person/people directly affected by the situation and the\\nperson/people are aware that I am submitting the complaint on their behalf.\\nB. Respondent's Information\\nThe person/people who are the subject of the complaint. Please provide details to the best of your knowledge.\\nIf you do not know, please indicate NA in the fields below.\\nName (if known) (Required)\\nFirst\\nLast\\nStudent Number (if known) (Required)\\nEmail (if known) (Required)\\nAddress (if known) (Required)\\nStreet Address\\nAddress Line 2\\nCity\\nProvince\\nPostal Code\\nProgram/Department (if known) (Required)\\n\"),\n",
       "  Document(metadata={'source': './Policies_Data/Student Code of Conduct _ Loyalist College.pdf', 'file_path': './Policies_Data/Student Code of Conduct _ Loyalist College.pdf', 'page': 3, 'total_pages': 6, 'format': 'PDF 1.4', 'title': 'Student Code of Conduct : Loyalist College', 'author': '', 'subject': '', 'keywords': '', 'creator': 'Mozilla/5.0 (Windows NT 10.0; Win64; x64) AppleWebKit/537.36 (KHTML, like Gecko) Chrome/126.0.0.0 Safari/537.36', 'producer': 'Skia/PDF m126', 'creationDate': \"D:20240722163600+00'00'\", 'modDate': \"D:20240722163600+00'00'\", 'trapped': ''}, page_content='C. Incident Details\\nPlease tell us about the incident in as much detail as possible (who, what, when, where). (Required)\\nIf there are any witnesses, please provide their name(s) and contact information. (Required)\\nDid you tell anyone about this incident (peer, staff, faculty, security, police etc.)? If yes, please let\\nus know who and provide as much detail as possible. (Required)\\n'),\n",
       "  Document(metadata={'source': './Policies_Data/Student Code of Conduct _ Loyalist College.pdf', 'file_path': './Policies_Data/Student Code of Conduct _ Loyalist College.pdf', 'page': 4, 'total_pages': 6, 'format': 'PDF 1.4', 'title': 'Student Code of Conduct : Loyalist College', 'author': '', 'subject': '', 'keywords': '', 'creator': 'Mozilla/5.0 (Windows NT 10.0; Win64; x64) AppleWebKit/537.36 (KHTML, like Gecko) Chrome/126.0.0.0 Safari/537.36', 'producer': 'Skia/PDF m126', 'creationDate': \"D:20240722163600+00'00'\", 'modDate': \"D:20240722163600+00'00'\", 'trapped': ''}, page_content='Is there any other information of which we should be aware? (Required)\\nD. Consent\\nI confirm that the information provided is true and correct to the best of my knowledge. I\\nunderstand the information provided on this form may be used by Loyalist College to launch and\\nconduct an investigation. This may include contacting the person making the complaint and any\\nperson identified through this form. If you have any questions about the form, please email\\nconductcomplaints@loyalistcollege.com. (Required)\\n Yes\\nCAPTCHA\\n'),\n",
       "  Document(metadata={'source': './Policies_Data/Student Code of Conduct _ Loyalist College.pdf', 'file_path': './Policies_Data/Student Code of Conduct _ Loyalist College.pdf', 'page': 5, 'total_pages': 6, 'format': 'PDF 1.4', 'title': 'Student Code of Conduct : Loyalist College', 'author': '', 'subject': '', 'keywords': '', 'creator': 'Mozilla/5.0 (Windows NT 10.0; Win64; x64) AppleWebKit/537.36 (KHTML, like Gecko) Chrome/126.0.0.0 Safari/537.36', 'producer': 'Skia/PDF m126', 'creationDate': \"D:20240722163600+00'00'\", 'modDate': \"D:20240722163600+00'00'\", 'trapped': ''}, page_content='SUBMIT\\n')]]"
      ]
     },
     "execution_count": 19,
     "metadata": {},
     "output_type": "execute_result"
    }
   ],
   "source": [
    "pdf_data[:5]"
   ]
  },
  {
   "cell_type": "code",
   "execution_count": 20,
   "metadata": {},
   "outputs": [
    {
     "data": {
      "text/plain": [
       "[Document(metadata={'source': './Policies_Data/HR-132-Full-Time-Faculty-Development-and-Evaluation-Process-FINAL.pdf', 'file_path': './Policies_Data/HR-132-Full-Time-Faculty-Development-and-Evaluation-Process-FINAL.pdf', 'page': 0, 'total_pages': 2, 'format': 'PDF 1.5', 'title': '', 'author': 'Kirsten Mason', 'subject': '', 'keywords': '', 'creator': 'Acrobat PDFMaker 18 for Word', 'producer': 'Adobe PDF Library 15.0', 'creationDate': \"D:20200817013617-04'00'\", 'modDate': \"D:20200817013619-04'00'\", 'trapped': ''}, page_content='Next Review Date: Date August 12, 2023  \\n \\nPage 1 of 2 \\n \\nCOLLEGE OPERATIONAL POLICY \\n \\nPolicy Number: HR 132 \\nPolicy Title: Full-Time Faculty Development and Evaluation \\nProcess \\nSupersedes Existing Policy? Y \\nPolicy Owner: Executive Director, Human Resources \\nAssociated Procedure: Y \\nDate Last Approved by the CET: Date August 12, 2020 \\n \\n \\n1. Introduction and Purpose \\nThe Loyalist College faculty development and evaluation process is designed, developed and \\nadministered as a partnership between faculty and their supervisors. \\nLoyalist College is committed to the implementation of faculty development and a performance review \\nprocess for all probationary, non-probationary and full-time faculty. The process is intended to support \\nfaculty in their teaching and learning strategies, professional growth, institutional effectiveness and \\nprogram quality assurance. This process should support faculty in examining how their knowledge, \\nskills and curriculum delivery strategies contribute to the high-quality learning experiences available to \\nour students.  \\n2. Application \\nThis section applies to all full-time, probationary and non-probationary faculty. \\n \\n3. Policy Statement \\nAll full-time, non-probationary faculty will be subject to a formative annual faculty development and \\nevaluation process. \\nAll probationary faculty members will be subject to a completed faculty development and evaluation \\nprocess as per the requirements of the most current clauses of the applicable collective agreements. \\n3.1 Faculty Evaluation \\nThe College’s faculty and evaluation process includes explicit and systematic feedback on teaching \\neffectiveness, which includes (but is not limited to) the following:    \\n• self-reflection;  \\n• student input gathered as feedback from the student learning experience survey; and \\n• direct supervisors of faculty who work at Loyalist. \\n \\n \\n'),\n",
       " Document(metadata={'source': './Policies_Data/HR-132-Full-Time-Faculty-Development-and-Evaluation-Process-FINAL.pdf', 'file_path': './Policies_Data/HR-132-Full-Time-Faculty-Development-and-Evaluation-Process-FINAL.pdf', 'page': 1, 'total_pages': 2, 'format': 'PDF 1.5', 'title': '', 'author': 'Kirsten Mason', 'subject': '', 'keywords': '', 'creator': 'Acrobat PDFMaker 18 for Word', 'producer': 'Adobe PDF Library 15.0', 'creationDate': \"D:20200817013617-04'00'\", 'modDate': \"D:20200817013619-04'00'\", 'trapped': ''}, page_content='Next Review Date: Date August 12, 2023  \\n \\nPage 2 of 2 \\n \\n3.2 Faculty Development \\nLoyalist College supports faculty in the pursuit of professional development activities, both within and \\noutside of the college, in order to ensure currency of faculty knowledge and promote curricular and \\ninstructional innovation. \\nFaculty may also pursue further academic, professional, or technical education or maintain currency in \\ntheir fields by participating in conferences, meetings, industry placements, job shadowing or \\nexchanges.   \\n4. Related Documents or Links \\n• AOP 224 Evaluation of Student Performance \\n• AOP 201 Code of Conduct: Academic Employees  \\n• AOP 214 Professional Development Opportunities  \\n• Annual Faculty Development Self-Assessment Form \\n• Student Learning Experience Survey – Rationale and Suggested Interpretation Guide \\n• HR 406 - Credential Studies Funding \\n• HR 231 Sabbatical/Professional Development Leave \\n \\n5. References \\n• Academic Employees Collective Agreement  \\n• Postsecondary Education Quality and Assessment Board Handbook for Ontario Colleges \\n \\n')]"
      ]
     },
     "execution_count": 20,
     "metadata": {},
     "output_type": "execute_result"
    }
   ],
   "source": [
    "pdf_data[0]"
   ]
  },
  {
   "cell_type": "code",
   "execution_count": 21,
   "metadata": {},
   "outputs": [
    {
     "data": {
      "text/plain": [
       "{'source': './Policies_Data/HR-132-Full-Time-Faculty-Development-and-Evaluation-Process-FINAL.pdf',\n",
       " 'file_path': './Policies_Data/HR-132-Full-Time-Faculty-Development-and-Evaluation-Process-FINAL.pdf',\n",
       " 'page': 0,\n",
       " 'total_pages': 2,\n",
       " 'format': 'PDF 1.5',\n",
       " 'title': '',\n",
       " 'author': 'Kirsten Mason',\n",
       " 'subject': '',\n",
       " 'keywords': '',\n",
       " 'creator': 'Acrobat PDFMaker 18 for Word',\n",
       " 'producer': 'Adobe PDF Library 15.0',\n",
       " 'creationDate': \"D:20200817013617-04'00'\",\n",
       " 'modDate': \"D:20200817013619-04'00'\",\n",
       " 'trapped': ''}"
      ]
     },
     "execution_count": 21,
     "metadata": {},
     "output_type": "execute_result"
    }
   ],
   "source": [
    "pdf_data[0][0].metadata"
   ]
  },
  {
   "cell_type": "code",
   "execution_count": 22,
   "metadata": {},
   "outputs": [
    {
     "name": "stdout",
     "output_type": "stream",
     "text": [
      "./Policies_Data/HR-132-Full-Time-Faculty-Development-and-Evaluation-Process-FINAL.pdf\n",
      "1\n",
      "Next Review Date: Date August 12, 2023  \n",
      " \n",
      "Page 1 of 2 \n",
      " \n",
      "COLLEGE OPERATIONAL POLICY \n",
      " \n",
      "Policy Numbe\n",
      "./Policies_Data/HR-132-Full-Time-Faculty-Development-and-Evaluation-Process-FINAL.pdf\n",
      "2\n",
      "Next Review Date: Date August 12, 2023  \n",
      " \n",
      "Page 2 of 2 \n",
      " \n",
      "3.2 Faculty Development \n",
      "Loyalist College \n"
     ]
    }
   ],
   "source": [
    "for x in pdf_data[0]:\n",
    "    print(x.metadata['source'])\n",
    "    print(x.metadata['page']+1)\n",
    "    print(x.page_content[:100])"
   ]
  },
  {
   "cell_type": "code",
   "execution_count": 23,
   "metadata": {},
   "outputs": [],
   "source": [
    "# Add document details to a dictionary\n",
    "\n",
    "pdf_json = []\n",
    "\n",
    "for doc in pdf_data:\n",
    "    for page in doc:\n",
    "        pdf_json.append({'f_no': page.metadata['source'], 'f_order': page.metadata['page']+1, 'text': page.page_content})"
   ]
  },
  {
   "cell_type": "code",
   "execution_count": 24,
   "metadata": {},
   "outputs": [
    {
     "data": {
      "text/plain": [
       "228"
      ]
     },
     "execution_count": 24,
     "metadata": {},
     "output_type": "execute_result"
    }
   ],
   "source": [
    "len(pdf_json)"
   ]
  },
  {
   "cell_type": "code",
   "execution_count": 25,
   "metadata": {},
   "outputs": [
    {
     "data": {
      "text/plain": [
       "[{'f_no': './Policies_Data/HR-132-Full-Time-Faculty-Development-and-Evaluation-Process-FINAL.pdf',\n",
       "  'f_order': 1,\n",
       "  'text': 'Next Review Date: Date August 12, 2023  \\n \\nPage 1 of 2 \\n \\nCOLLEGE OPERATIONAL POLICY \\n \\nPolicy Number: HR 132 \\nPolicy Title: Full-Time Faculty Development and Evaluation \\nProcess \\nSupersedes Existing Policy? Y \\nPolicy Owner: Executive Director, Human Resources \\nAssociated Procedure: Y \\nDate Last Approved by the CET: Date August 12, 2020 \\n \\n \\n1. Introduction and Purpose \\nThe Loyalist College faculty development and evaluation process is designed, developed and \\nadministered as a partnership between faculty and their supervisors. \\nLoyalist College is committed to the implementation of faculty development and a performance review \\nprocess for all probationary, non-probationary and full-time faculty. The process is intended to support \\nfaculty in their teaching and learning strategies, professional growth, institutional effectiveness and \\nprogram quality assurance. This process should support faculty in examining how their knowledge, \\nskills and curriculum delivery strategies contribute to the high-quality learning experiences available to \\nour students.  \\n2. Application \\nThis section applies to all full-time, probationary and non-probationary faculty. \\n \\n3. Policy Statement \\nAll full-time, non-probationary faculty will be subject to a formative annual faculty development and \\nevaluation process. \\nAll probationary faculty members will be subject to a completed faculty development and evaluation \\nprocess as per the requirements of the most current clauses of the applicable collective agreements. \\n3.1 Faculty Evaluation \\nThe College’s faculty and evaluation process includes explicit and systematic feedback on teaching \\neffectiveness, which includes (but is not limited to) the following:    \\n• self-reflection;  \\n• student input gathered as feedback from the student learning experience survey; and \\n• direct supervisors of faculty who work at Loyalist. \\n \\n \\n'},\n",
       " {'f_no': './Policies_Data/HR-132-Full-Time-Faculty-Development-and-Evaluation-Process-FINAL.pdf',\n",
       "  'f_order': 2,\n",
       "  'text': 'Next Review Date: Date August 12, 2023  \\n \\nPage 2 of 2 \\n \\n3.2 Faculty Development \\nLoyalist College supports faculty in the pursuit of professional development activities, both within and \\noutside of the college, in order to ensure currency of faculty knowledge and promote curricular and \\ninstructional innovation. \\nFaculty may also pursue further academic, professional, or technical education or maintain currency in \\ntheir fields by participating in conferences, meetings, industry placements, job shadowing or \\nexchanges.   \\n4. Related Documents or Links \\n• AOP 224 Evaluation of Student Performance \\n• AOP 201 Code of Conduct: Academic Employees  \\n• AOP 214 Professional Development Opportunities  \\n• Annual Faculty Development Self-Assessment Form \\n• Student Learning Experience Survey – Rationale and Suggested Interpretation Guide \\n• HR 406 - Credential Studies Funding \\n• HR 231 Sabbatical/Professional Development Leave \\n \\n5. References \\n• Academic Employees Collective Agreement  \\n• Postsecondary Education Quality and Assessment Board Handbook for Ontario Colleges \\n \\n'},\n",
       " {'f_no': './Policies_Data/Sexual Assault & Sexual Violence _ Loyalist College.pdf',\n",
       "  'f_order': 1,\n",
       "  'text': 'Sexual Assault & Sexual Violence\\nStatement from the President\\nLoyalist College values respect for all individuals, civility, diversity, dignity, equality and freedom. The\\nCollege is committed to maintaining a healthy and safe learning, living, social, recreational and working\\nenvironment. We are committed to maintaining a campus free of discrimination and harassment, and\\nstrive to foster an atmosphere of healthy attitudes and behaviours towards sexuality, sex and gender\\nroles. Loyalist will not tolerate behaviour that contributes to a hostile and inequitable learning and\\nworking environment.\\xa0 We take seriously our commitment to supporting those who experience sexual\\nviolence, and we work diligently on campus and with community partners on programs, policies and\\nresources to ensure that our campus remains free from sexual violence.\\nThis website provides quick access to the information contained in the College’s Sexual Assault and\\nSexual Violence Policy and Protocol. The Policy and Protocol provides procedures and resources to\\nsupport individuals and groups who may be directly or indirectly involved in working with persons who\\nhave experienced sexual violence.\\nI urge all members of the College community to review the Policy and Protocol to learn about options and\\nresources available to those who require support or who wish to support others. Please help to ensure\\nthat the College remains a safe and positive space where members of the College community feel able to\\nwork, learn and express themselves in a safe and respectful environment.\\nADMIN 125 Responding to Sexual Assault and Sexualized Violence Policy\\nADMIN 125 Procedure for Responding to Sexual Assault and Sexualized Violence – Students\\nADMIN 125 Procedure for Responding to Sexual Misconduct, Sexualized Assaults, and Sexualized\\nViolence – Employees\\nAppendix A: ADMIN 125 Responding to Sexual Assault and Sexualized Violence Form\\nMark Kirkpatrick\\nPresident and CEO\\nLoyalist College\\nIn accordance with Ministry requirements, Loyalist College reports annually to its Board of Governors on\\nsexual assault and sexualized violence education and disclosures. A copy of the annual report to the\\nBoard is available by contacting Andrea Paradise, Executive Assistant to the Board of Governors, at\\naparadise@loyalistcollege.com.\\nmyLoyalist\\n'},\n",
       " {'f_no': './Policies_Data/Sexual Assault & Sexual Violence _ Loyalist College.pdf',\n",
       "  'f_order': 2,\n",
       "  'text': '\\xa0\\n'},\n",
       " {'f_no': './Policies_Data/ADMIN 126 Including Indigenous Knowledge and Community Members in College Activities _ Loyalist College.pdf',\n",
       "  'f_order': 1,\n",
       "  'text': 'College Operational Policy\\nPolicy Title:\\nIncluding Indigenous\\nKnowledge and Community\\nMembers in College Activities\\nNumber:\\nADMIN 126\\nPolicy Sponsor:\\xa0\\nOffice of the President\\nSupersedes Existing\\nPolicy:\\nNo\\nAssociated Procedure:\\nYes\\nPolicy Owner:\\nExecutive Director,\\nIndigenous\\nInitiatives and\\nReconciliation\\nNext Review Date:\\nOctober 2026\\nDate Last Approved\\nby the CET:\\nOctober 4, 2023\\n1.\\xa0 \\xa0 \\xa0 \\xa0Purpose\\nLoyalist is committed to working collaboratively with Indigenous Elders, Knowledge Keepers, and\\ncommunity members to build and support lasting relationships with Indigenous Peoples and\\ncommunities. After centuries of colonial practices that aimed to dispossess, assimilate, and oppress\\nIndigenous Peoples and their ways of life, it is essential that the College helps to create and support a\\nspace for Indigenous knowledge in a welcoming, respectful, and culturally appropriate way.\\nThe purpose of this policy is to affirm Loyalist’s commitment to reconciliation and to provide guidelines\\nthat will assist Loyalist College staff, faculty, and students to ethically include Indigenous community\\nmembers, Indigenous ways of knowing, and cultural traditions in College activities.\\n2.\\xa0 \\xa0 \\xa0 Application and Scope\\nThis policy applies to all departments and employees at all Loyalist College campuses and will be\\nconsistent whether the activity is delivered on-campus, off-campus or virtually.\\xa0 \\xa0\\n3.\\xa0 \\xa0 \\xa0 \\xa0Compliance\\nAll Loyalist College faculty, staff and students who wish to include Indigenous knowledge, cultural\\ntraditions and/or community members in their activities and events should:\\nconsult the Guidelines for Acknowledging Territory Protocols for Working with Elders, Knowledge\\nKeepers, and Community Members\\nmyLoyalist\\n'}]"
      ]
     },
     "execution_count": 25,
     "metadata": {},
     "output_type": "execute_result"
    }
   ],
   "source": [
    "pdf_json[:5]"
   ]
  },
  {
   "cell_type": "code",
   "execution_count": 26,
   "metadata": {},
   "outputs": [],
   "source": [
    "# Save the JSON object in a .json file\n",
    "\n",
    "import json\n",
    "\n",
    "with open('pdf_data_ordered.json', 'w') as fh:\n",
    "    fh.write(json.dumps(pdf_json, indent=4))"
   ]
  }
 ],
 "metadata": {
  "kernelspec": {
   "display_name": "rag_env",
   "language": "python",
   "name": "python3"
  },
  "language_info": {
   "codemirror_mode": {
    "name": "ipython",
    "version": 3
   },
   "file_extension": ".py",
   "mimetype": "text/x-python",
   "name": "python",
   "nbconvert_exporter": "python",
   "pygments_lexer": "ipython3",
   "version": "3.11.9"
  }
 },
 "nbformat": 4,
 "nbformat_minor": 2
}
