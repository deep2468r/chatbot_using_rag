{
 "cells": [
  {
   "cell_type": "markdown",
   "metadata": {},
   "source": [
    "# Reads data from text files, chunks them and stores them in vector DB along with their embeddings"
   ]
  },
  {
   "cell_type": "code",
   "execution_count": 18,
   "metadata": {},
   "outputs": [],
   "source": [
    "import os"
   ]
  },
  {
   "cell_type": "code",
   "execution_count": 19,
   "metadata": {},
   "outputs": [],
   "source": [
    "# Read parameters\n",
    "import json\n",
    "\n",
    "parameters_file = \"pg_params.json\"\n",
    "\n",
    "with open(parameters_file, 'r') as fh:\n",
    "    params = json.loads(fh.read())"
   ]
  },
  {
   "cell_type": "code",
   "execution_count": 20,
   "metadata": {},
   "outputs": [],
   "source": [
    "files_list = [\"../data/text_data_ordered.json\",\n",
    "              \"../data/pdf_data_ordered.json\"]"
   ]
  },
  {
   "cell_type": "code",
   "execution_count": 21,
   "metadata": {},
   "outputs": [],
   "source": [
    "# Read clean data list from json file\n",
    "\n",
    "for file in files_list:\n",
    "    with open(file, 'r') as fh:\n",
    "        data = json.loads(fh.read())"
   ]
  },
  {
   "cell_type": "code",
   "execution_count": 25,
   "metadata": {},
   "outputs": [],
   "source": [
    "import ollama\n",
    "\n",
    "vectors = [ollama.embeddings(model=params[\"embedding_model\"], prompt=x['text'])[\"embedding\"] for x in data]"
   ]
  },
  {
   "cell_type": "code",
   "execution_count": 26,
   "metadata": {},
   "outputs": [],
   "source": [
    "import psycopg2\n",
    "\n",
    "# Connect to the database\n",
    "conn = psycopg2.connect(database = \"test_db\", \n",
    "                        user = \"postgres\", \n",
    "                        host= 'localhost',\n",
    "                        password = \"deep\",\n",
    "                        port = 5432)\n",
    "\n",
    "# To make the changes to the database persistent\n",
    "conn.autocommit = True"
   ]
  },
  {
   "cell_type": "code",
   "execution_count": 27,
   "metadata": {},
   "outputs": [],
   "source": [
    "# Create table in database\n",
    "cur = conn.cursor()\n",
    "\n",
    "cur.execute(f'''CREATE TABLE IF NOT EXISTS {params['table_name']}( \n",
    "            doc_id SERIAL PRIMARY KEY,  \n",
    "            doc_name TEXT NOT NULL,\n",
    "            doc_order INT NOT NULL,\n",
    "            doc_text TEXT NOT NULL,\n",
    "            embedding VECTOR({str(params['vector_size'])})\n",
    "            );''') \n",
    "\n",
    "\n",
    "# Close cursor\n",
    "cur.close()"
   ]
  },
  {
   "cell_type": "code",
   "execution_count": 28,
   "metadata": {},
   "outputs": [],
   "source": [
    "# Insert data with its embeddings into the database\n",
    "cur = conn.cursor()\n",
    "\n",
    "for x, vector in zip(data, vectors):\n",
    "    cur.execute(f\"\"\"INSERT INTO {params['table_name']} (doc_name, doc_order, doc_text, embedding)\n",
    "    VALUES ('{x[\"f_no\"]}', {x[\"f_order\"]}, '{x[\"text\"]}', '{vector}');\n",
    "    \"\"\")\n",
    "\n",
    "# Close cursor and communication with the database\n",
    "cur.close()\n",
    "conn.close()"
   ]
  },
  {
   "cell_type": "code",
   "execution_count": null,
   "metadata": {},
   "outputs": [],
   "source": []
  }
 ],
 "metadata": {
  "kernelspec": {
   "display_name": "rag_env",
   "language": "python",
   "name": "python3"
  },
  "language_info": {
   "codemirror_mode": {
    "name": "ipython",
    "version": 3
   },
   "file_extension": ".py",
   "mimetype": "text/x-python",
   "name": "python",
   "nbconvert_exporter": "python",
   "pygments_lexer": "ipython3",
   "version": "3.11.9"
  }
 },
 "nbformat": 4,
 "nbformat_minor": 2
}
