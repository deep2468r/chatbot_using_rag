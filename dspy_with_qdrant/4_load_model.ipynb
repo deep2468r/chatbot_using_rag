{
 "cells": [
  {
   "cell_type": "markdown",
   "metadata": {},
   "source": [
    "# Load RAG model from saved model json file"
   ]
  },
  {
   "cell_type": "code",
   "execution_count": 1,
   "metadata": {},
   "outputs": [
    {
     "name": "stderr",
     "output_type": "stream",
     "text": [
      "/opt/anaconda3/envs/rag_env/lib/python3.11/site-packages/tqdm/auto.py:21: TqdmWarning: IProgress not found. Please update jupyter and ipywidgets. See https://ipywidgets.readthedocs.io/en/stable/user_install.html\n",
      "  from .autonotebook import tqdm as notebook_tqdm\n"
     ]
    }
   ],
   "source": [
    "import ollama\n",
    "import dspy\n",
    "import rag_with_qdrant\n",
    "from qdrant_client import QdrantClient\n",
    "import json"
   ]
  },
  {
   "cell_type": "code",
   "execution_count": 2,
   "metadata": {},
   "outputs": [],
   "source": [
    "# Read parameters file\n",
    "\n",
    "parameters_file = \"params.json\"\n",
    "\n",
    "with open(parameters_file, 'r') as fh:\n",
    "    params = json.loads(fh.read())"
   ]
  },
  {
   "cell_type": "code",
   "execution_count": 4,
   "metadata": {},
   "outputs": [],
   "source": [
    "# Load the Ollama local language model\n",
    "lm = dspy.OllamaLocal(model=params[\"lm_name\"])\n",
    "\n",
    "# Connection to Qdrant Vector DB\n",
    "client = QdrantClient(\"localhost\", port=6333)\n",
    "\n",
    "# Configuring language model and retieval model to use in dspy\n",
    "dspy.settings.configure(lm=lm)"
   ]
  },
  {
   "cell_type": "code",
   "execution_count": 5,
   "metadata": {},
   "outputs": [],
   "source": [
    "# Build model\n",
    "model = rag.RAG()\n",
    "\n",
    "# Load fine-tuned model parameters\n",
    "# model.load(params[\"rag_parameters\"])"
   ]
  },
  {
   "cell_type": "markdown",
   "metadata": {},
   "source": [
    "## Queries"
   ]
  },
  {
   "cell_type": "code",
   "execution_count": 6,
   "metadata": {},
   "outputs": [
    {
     "name": "stdout",
     "output_type": "stream",
     "text": [
      "No, smoking or vaping is not allowed on any part of the college property. This includes tobacco, e-cigarettes, hookahs (water pipes), cannabis, and indigenous sacred medicines used for ceremonial purposes are also prohibited. The policy aims to promote health and wellness by providing cessation assistance services.\n",
      "Time taken to execute : 13.545186996459961 sec\n"
     ]
    }
   ],
   "source": [
    "from time import time\n",
    "start_time = time()\n",
    "result = model('Can I smoke in the campus?')\n",
    "print(result.answer)\n",
    "end_time = time()\n",
    "print(f\"Time taken to execute : {end_time - start_time} sec\")"
   ]
  },
  {
   "cell_type": "code",
   "execution_count": 7,
   "metadata": {},
   "outputs": [
    {
     "name": "stdout",
     "output_type": "stream",
     "text": [
      "To raise a complaint related to harassment or discrimination at your college, follow these detailed steps:\n",
      "\n",
      "1. Identify the issue: Recognize that you have experienced harassment or discrimination based on the college's policy definition. It is essential to understand the nature of the problem and how it violates the college's policies.\n",
      "\n",
      "2. Gather evidence: Collect any relevant information, such as emails, messages, witness statements, or notes about incidents that support your complaint. This will help strengthen your case and provide evidence to back up your claims. Be sure to keep this evidence organized and easily accessible for when you submit your complaint.\n",
      "\n",
      "3. Consult resources: Familiarize yourself with the college's harassment\n",
      "Time taken to execute : 14.535356283187866\n"
     ]
    }
   ],
   "source": [
    "start_time = time()\n",
    "result = model('give me detailed steps on how to raise Complaints?')\n",
    "print(result.answer)\n",
    "end_time = time()\n",
    "\n",
    "print(f\"Time taken to execute : {end_time - start_time}\")"
   ]
  },
  {
   "cell_type": "code",
   "execution_count": 8,
   "metadata": {},
   "outputs": [
    {
     "name": "stdout",
     "output_type": "stream",
     "text": [
      "The text does not explicitly mention \"Student to Student Support\" as a specific program or service. However, it implies that there might be opportunities for students to assist each other through the roles of Student Ambassadors and the Career Services & Work Integrated Learning unit (CS&WIL). These roles could potentially provide student-to-student support in terms of registration processes, answering questions, and providing guidance.\n",
      "Time taken to execute : 10.363104104995728\n"
     ]
    }
   ],
   "source": [
    "start_time = time()\n",
    "result = model('What is Student to Student Support?')\n",
    "print(result.answer)\n",
    "end_time = time()\n",
    "\n",
    "print(f\"Time taken to execute : {end_time - start_time}\")"
   ]
  },
  {
   "cell_type": "code",
   "execution_count": 9,
   "metadata": {},
   "outputs": [
    {
     "name": "stdout",
     "output_type": "stream",
     "text": [
      "The Tutoring Services available at Loyalist College include peer-led and faculty-led tutoring services. To request these services, students should fill out the Tutor Request Form provided here: https://forms.office.com/pages/responsepage.aspx?id=PlKz1i9IoEKTulrUSLtK5CmSQlqeXtROpTBCYMDn29lUMDBRQjYxMkhWSlkzOFBRS1NGR1RaNVQ1RSQlQCN0PWcu\n",
      "Time taken to execute : 13.213245868682861\n"
     ]
    }
   ],
   "source": [
    "start_time = time()\n",
    "result = model('What are the Tutoring Services available ?')\n",
    "print(result.answer)\n",
    "end_time = time()\n",
    "\n",
    "print(f\"Time taken to execute : {end_time - start_time}\")"
   ]
  },
  {
   "cell_type": "code",
   "execution_count": 10,
   "metadata": {},
   "outputs": [
    {
     "name": "stdout",
     "output_type": "stream",
     "text": [
      "To find out the library hours, you should visit the provided link for the Loyalist College Information Commons (LCIB) Library. The link is: <https://loyalistcollege.com/our-campus/campus-facilities/library/>. After clicking on this link, you will be directed to the library's webpage where you can find information about its hours of operation. Therefore, I cannot provide the exact hours as they may vary and are subject to change. Please visit the provided link for the most accurate and up-to-date information.\n",
      "Time taken to execute : 11.19187593460083\n"
     ]
    }
   ],
   "source": [
    "start_time = time()\n",
    "result = model('What are library hours?')\n",
    "print(result.answer)\n",
    "end_time = time()\n",
    "\n",
    "print(f\"Time taken to execute : {end_time - start_time}\")"
   ]
  },
  {
   "cell_type": "code",
   "execution_count": 11,
   "metadata": {},
   "outputs": [
    {
     "name": "stdout",
     "output_type": "stream",
     "text": [
      "Based on the information provided, I cannot confirm whether there is a Library Policy and Procedure at Loyalist College as it pertains to research policies and procedures instead. To find out more about the library policy and procedure at Loyalist College, you may want to visit their official library website (<https://loyalistcollege.com/our-campus/campus-facilities/library/>) as mentioned in the text.\n",
      "Time taken to execute : 11.527225971221924\n"
     ]
    }
   ],
   "source": [
    "start_time = time()\n",
    "result = model('is there any Library Policy and Procedure in tBC?')\n",
    "print(result.answer)\n",
    "end_time = time()\n",
    "\n",
    "print(f\"Time taken to execute : {end_time - start_time}\")"
   ]
  },
  {
   "cell_type": "code",
   "execution_count": 12,
   "metadata": {},
   "outputs": [
    {
     "name": "stdout",
     "output_type": "stream",
     "text": [
      "Based on the provided text, here are the health and care services available on campus:\n",
      "\n",
      "1. First Aid kits - Available at front desk and other locations for immediate response to injuries or emergencies.\n",
      "2. Automated External Defibrillator (AED) - Available at the reception desk for cardiac emergencies.\n",
      "Time taken to execute : 11.81584095954895\n"
     ]
    }
   ],
   "source": [
    "start_time = time()\n",
    "result = model('can you give me the list of HEALTH & CARE servoces  that ate avaible')\n",
    "print(result.answer)\n",
    "end_time = time()\n",
    "\n",
    "print(f\"Time taken to execute : {end_time - start_time}\")"
   ]
  },
  {
   "cell_type": "code",
   "execution_count": 13,
   "metadata": {},
   "outputs": [
    {
     "name": "stdout",
     "output_type": "stream",
     "text": [
      "Basharat Ali\n",
      "Time taken to execute : 4.182836055755615\n"
     ]
    }
   ],
   "source": [
    "start_time = time()\n",
    "result = model('who is Immigration Consultation?')\n",
    "print(result.answer)\n",
    "end_time = time()\n",
    "\n",
    "print(f\"Time taken to execute : {end_time - start_time}\")"
   ]
  },
  {
   "cell_type": "code",
   "execution_count": 14,
   "metadata": {},
   "outputs": [
    {
     "name": "stdout",
     "output_type": "stream",
     "text": [
      "The text does not provide information on any specific GO Transit Presto Discounts. To find out about any discounts available, you should check GO Transit's official website or contact them directly.\n",
      "Time taken to execute : 9.096359252929688\n"
     ]
    }
   ],
   "source": [
    "start_time = time()\n",
    "result = model('what are the GO Transit Presto Discounts available?')\n",
    "print(result.answer)\n",
    "end_time = time()\n",
    "\n",
    "print(f\"Time taken to execute : {end_time - start_time}\")"
   ]
  },
  {
   "cell_type": "code",
   "execution_count": 15,
   "metadata": {},
   "outputs": [
    {
     "name": "stdout",
     "output_type": "stream",
     "text": [
      "The provided text does not explicitly state the requirements for a Computer Systems Technician program. To find the specific requirements, you should check the Loyalist College website or contact their Enrolment Services directly.\n",
      "Time taken to execute : 10.447304964065552\n"
     ]
    }
   ],
   "source": [
    "start_time = time()\n",
    "result = model('what are the requirments of Computer Sysytems Technician?')\n",
    "print(result.answer)\n",
    "end_time = time()\n",
    "\n",
    "print(f\"Time taken to execute : {end_time - start_time}\")"
   ]
  },
  {
   "cell_type": "code",
   "execution_count": 16,
   "metadata": {},
   "outputs": [
    {
     "name": "stdout",
     "output_type": "stream",
     "text": [
      "The provided text does not explicitly state the specific Student Code of Conduct for LCIT (TB College). However, it implies that the college has a Code of Student Conduct which outlines the purpose of ensuring student behavior aligns with the college's expectations and protects students and the community from risks or significant impact posed by their behavior. The code may include provisions for addressing behaviors of concern, including placing a student on an involuntary leave of absence when necessary.\n",
      "Time taken to execute : 11.95794677734375\n"
     ]
    }
   ],
   "source": [
    "start_time = time()\n",
    "result = model('What is Student Code of Conduct here in LCIT?')\n",
    "print(result.answer)\n",
    "end_time = time()\n",
    "\n",
    "print(f\"Time taken to execute : {end_time - start_time}\")"
   ]
  },
  {
   "cell_type": "code",
   "execution_count": 17,
   "metadata": {},
   "outputs": [
    {
     "name": "stdout",
     "output_type": "stream",
     "text": [
      "Student Conduct Complaints at Loyalist College refer to instances where there is a formal written complaint about a student's behavior that denies individuals their dignity and respect, or is offensive, embarrassing, or humiliating. The policy aims to ensure a safe and respectful environment for all College Community members.\n",
      "\n",
      "In such cases, the complaint should be emailed to conductcomplaints@loyalistcollege.com. The College will restrict access to information related to a report and investigation of an incident of workplace violence or harassment with a legitimate need for such access, but confidentiality cannot be assured in certain circumstances.\n",
      "\n",
      "Key roles involved in handling student conduct complaints include Managers, Faculty, the Vice\n",
      "Time taken to execute : 14.566733837127686\n"
     ]
    }
   ],
   "source": [
    "start_time = time()\n",
    "result = model('Tell me  about Student Conduct Complaints?')\n",
    "print(result.answer)\n",
    "end_time = time()\n",
    "\n",
    "print(f\"Time taken to execute : {end_time - start_time}\")"
   ]
  },
  {
   "cell_type": "code",
   "execution_count": 18,
   "metadata": {},
   "outputs": [
    {
     "name": "stdout",
     "output_type": "stream",
     "text": [
      "Service and Support Animals on Campus refer to animals that assist individuals with disabilities in navigating their daily lives. A service animal is a certified animal trained to perform specific tasks for an individual with a disability, such as guiding the blind or alerting someone with diabetes when their blood sugar levels are low. Support animals provide emotional support, comfort, and companionship to individuals with mental health disabilities. At Loyalist College, service animals are allowed anywhere on campus, except in specific situations where it could pose a health or safety hazard. However, support animals are not covered under the provisions of the Accessibility for Ontarians with Disabilities Act (AODA) in public spaces.\n",
      "Time taken to execute : 14.566563844680786\n"
     ]
    }
   ],
   "source": [
    "start_time = time()\n",
    "result = model('What are Service & Support Animals on Campus?')\n",
    "print(result.answer)\n",
    "end_time = time()\n",
    "\n",
    "print(f\"Time taken to execute : {end_time - start_time}\")"
   ]
  }
 ],
 "metadata": {
  "kernelspec": {
   "display_name": "rag_env",
   "language": "python",
   "name": "python3"
  },
  "language_info": {
   "codemirror_mode": {
    "name": "ipython",
    "version": 3
   },
   "file_extension": ".py",
   "mimetype": "text/x-python",
   "name": "python",
   "nbconvert_exporter": "python",
   "pygments_lexer": "ipython3",
   "version": "3.11.9"
  }
 },
 "nbformat": 4,
 "nbformat_minor": 2
}
