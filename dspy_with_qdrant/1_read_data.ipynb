{
 "cells": [
  {
   "cell_type": "markdown",
   "metadata": {},
   "source": [
    "# Reads data from text files, chunks them and stores them in vector DB along with their embeddings"
   ]
  },
  {
   "cell_type": "code",
   "execution_count": null,
   "metadata": {},
   "outputs": [],
   "source": [
    "import os\n",
    "import dspy"
   ]
  },
  {
   "cell_type": "code",
   "execution_count": 58,
   "metadata": {},
   "outputs": [],
   "source": [
    "# Read parameters\n",
    "\n",
    "import json\n",
    "\n",
    "parameters_file = \"params.json\"\n",
    "\n",
    "with open(parameters_file, 'r') as fh:\n",
    "    params = json.loads(fh.read())"
   ]
  },
  {
   "cell_type": "code",
   "execution_count": 57,
   "metadata": {},
   "outputs": [],
   "source": [
    "files_list = [\"../data/text_data_ordered.json\",\n",
    "              \"../data/pdf_data_ordered.json\"]"
   ]
  },
  {
   "cell_type": "code",
   "execution_count": 59,
   "metadata": {},
   "outputs": [],
   "source": [
    "\n",
    "data = []\n",
    "\n",
    "for file in files_list:\n",
    "    with open(file, 'r') as fh:\n",
    "        data.extend(json.loads(fh.read()))"
   ]
  },
  {
   "cell_type": "code",
   "execution_count": 60,
   "metadata": {},
   "outputs": [
    {
     "data": {
      "text/plain": [
       "dict_keys(['f_no', 'f_order', 'text'])"
      ]
     },
     "execution_count": 60,
     "metadata": {},
     "output_type": "execute_result"
    }
   ],
   "source": [
    "data[0].keys()"
   ]
  },
  {
   "cell_type": "code",
   "execution_count": 61,
   "metadata": {},
   "outputs": [
    {
     "data": {
      "text/plain": [
       "606"
      ]
     },
     "execution_count": 61,
     "metadata": {},
     "output_type": "execute_result"
    }
   ],
   "source": [
    "len(data)"
   ]
  },
  {
   "cell_type": "code",
   "execution_count": 62,
   "metadata": {},
   "outputs": [
    {
     "data": {
      "text/plain": [
       "[{'f_no': 'tf_1',\n",
       "  'f_order': 1,\n",
       "  'text': 'Student to Student Support Peer support recognizes that students naturally turn to each other for support and connection. Our Student Ambassadors utilize their lived experience as international students to provide friendly, respectful support to help students build a healthy and successful college experience. Click here(https://tbcollege0.sharepoint.com/:b:/s/ExternShare/EWPHCe-qNINHgqTW486g3-YBD-0vkdNy2Ke0sKixC01BLQ?e=cAGXGg) to know more. '},\n",
       " {'f_no': 'tf_2',\n",
       "  'f_order': 1,\n",
       "  'text': ' STUDENT SUCCESS: Student to Student Support Peer support recognizes that students naturally turn to each other for support and connection. Our Student Ambassadors utilize their lived experience as international students to provide friendly, respectful support to help students build a healthy and successful college experience. Click here(https://tbcollege0.sharepoint.com/:b:/s/ExternShare/EWPHCe-qNINHgqTW486g3-YBD-0vkdNy2Ke0sKixC01BLQ?e=cAGXGg) to know more. '},\n",
       " {'f_no': 'tf_3',\n",
       "  'f_order': 1,\n",
       "  'text': ' Tutoring Services Students who need help with their course material, LCIT offers free tutoring services to all enrolled students. Tutoring services could be peer-led or faculty-led. To request tutoring Services, please fill out the Tutor Request Form below: https://forms.office.com/pages/responsepage.aspx?id=PlKz1i9IoEKTulrUSLtK5CmSQlqeXtROpTBCYMDn29lUMDBRQjYxMkhWSlkzOFBRS1NGR1RaNVQ1RSQlQCN0PWcu '},\n",
       " {'f_no': 'tf_4',\n",
       "  'f_order': 1,\n",
       "  'text': ' Accessibility Services To register with Accessibility Services, please fill out the Accessibility Service Application. https://forms.office.com/pages/responsepage.aspx?id=PlKz1i9IoEKTulrUSLtK5CmSQlqeXtROpTBCYMDn29lUMFdFTlNCWDZXUTFUS0JOWDBMVFVITUJIMiQlQCN0PWcu We are here to support you! The College is committed to helping students with disabilities that may affect their academic success. We provide the necessary assistance to ensure equal opportunities for all students. '},\n",
       " {'f_no': 'tf_5',\n",
       "  'f_order': 1,\n",
       "  'text': ' College Library Library Services Click here(https://tbcollege.librarika.com/search/catalogs) to access our online catalog. Library Hours: Monday 10AM – 4PM Tuesday 10AM – 4PM Wednesday 10AM – 6PM Thursday 10AM – 4PM Friday 10AM – 4PM Saturday 10AM – 4PM Library Policy and Procedure: TPO 010 - SL 001 - Library Services Policy(https://tbcollege0.sharepoint.com/sites/QASourcePoliciesProceduresForms/Shared%20Documents/Forms/AllItems.aspx?id=%2Fsites%2FQASourcePoliciesProceduresForms%2FShared%20Documents%2FPolicies%20and%20Procedures%2FP%26P%20share%2FSLT%20Access%2FStaff%20Access%2Feveryone%2FTPO%20010%20%2D%20SL%20001%20%2D%20Library%20Services%20Policy%2Epdf&parent=%2Fsites%2FQASourcePoliciesProceduresForms%2FShared%20Documents%2FPolicies%20and%20Procedures%2FP%26P%20share%2FSLT%20Access%2FStaff%20Access%2Feveryone&p=true&ga=1) TPR 010 - SL 015 - Library Procedure Manual(https://tbcollege0.sharepoint.com/sites/QASourcePoliciesProceduresForms/Shared%20Documents/Forms/AllItems.aspx?id=%2Fsites%2FQASourcePoliciesProceduresForms%2FShared%20Documents%2FPolicies%20and%20Procedures%2FP%26P%20share%2FSLT%20Access%2FStaff%20Access%2Feveryone%2FTPR%20010%20%2D%20SL%20015%20%2D%20Library%20Procedure%20Manual%2Epdf&parent=%2Fsites%2FQASourcePoliciesProceduresForms%2FShared%20Documents%2FPolicies%20and%20Procedures%2FP%26P%20share%2FSLT%20Access%2FStaff%20Access%2Feveryone&p=true&ga=1) Click here(https://loyalistcollege.com/our-campus/campus-facilities/library/) to know more about the LCIB library facility. '}]"
      ]
     },
     "execution_count": 62,
     "metadata": {},
     "output_type": "execute_result"
    }
   ],
   "source": [
    "data[:5]"
   ]
  },
  {
   "cell_type": "code",
   "execution_count": 63,
   "metadata": {},
   "outputs": [],
   "source": [
    "import ollama\n",
    "from qdrant_client import QdrantClient\n",
    "from qdrant_client.models import Distance, VectorParams, PointStruct"
   ]
  },
  {
   "cell_type": "code",
   "execution_count": 64,
   "metadata": {},
   "outputs": [],
   "source": [
    "ids = list(range(0, len(data)))\n",
    "docs = data\n",
    "\n",
    "# Create vectors for the text using the embedding model\n",
    "vectors = [ollama.embeddings(model=params[\"embedding_model\"], prompt=doc['text'])[\"embedding\"] for doc in docs]"
   ]
  },
  {
   "cell_type": "code",
   "execution_count": 65,
   "metadata": {},
   "outputs": [],
   "source": [
    "# Create connection with Qdrant DB\n",
    "client = QdrantClient(\"localhost\", port=6333)"
   ]
  },
  {
   "cell_type": "code",
   "execution_count": 66,
   "metadata": {},
   "outputs": [
    {
     "name": "stderr",
     "output_type": "stream",
     "text": [
      "/var/folders/0y/2kmlwh2x6_x71q7m616mf00w0000gn/T/ipykernel_41361/176619761.py:1: DeprecationWarning: `recreate_collection` method is deprecated and will be removed in the future. Use `collection_exists` to check collection existence and `create_collection` instead.\n",
      "  client.recreate_collection(\n"
     ]
    },
    {
     "data": {
      "text/plain": [
       "True"
      ]
     },
     "execution_count": 66,
     "metadata": {},
     "output_type": "execute_result"
    }
   ],
   "source": [
    "# Create a collection in the vector DB\n",
    "client.recreate_collection(\n",
    "    collection_name=params[\"collection_name\"],\n",
    "    vectors_config=VectorParams(size=params[\"vector_size\"], distance=Distance.COSINE)\n",
    "    )"
   ]
  },
  {
   "cell_type": "code",
   "execution_count": 67,
   "metadata": {},
   "outputs": [],
   "source": [
    "# Organize data in a PointStruct object\n",
    "\n",
    "points = []\n",
    "\n",
    "for (id, vector, doc) in  zip(ids, vectors, docs):\n",
    "    points.append(\n",
    "        PointStruct(\n",
    "            id=id,\n",
    "            vector=vector,\n",
    "            payload={'f_no': doc['f_no'], 'f_order': doc['f_order'], 'text': doc['text']},\n",
    "        )\n",
    "    )"
   ]
  },
  {
   "cell_type": "code",
   "execution_count": 68,
   "metadata": {},
   "outputs": [
    {
     "data": {
      "text/plain": [
       "UpdateResult(operation_id=0, status=<UpdateStatus.COMPLETED: 'completed'>)"
      ]
     },
     "execution_count": 68,
     "metadata": {},
     "output_type": "execute_result"
    }
   ],
   "source": [
    "# Upload the data to the vector DB\n",
    "client.upsert(params[\"collection_name\"], points)"
   ]
  }
 ],
 "metadata": {
  "kernelspec": {
   "display_name": "rag_env",
   "language": "python",
   "name": "python3"
  },
  "language_info": {
   "codemirror_mode": {
    "name": "ipython",
    "version": 3
   },
   "file_extension": ".py",
   "mimetype": "text/x-python",
   "name": "python",
   "nbconvert_exporter": "python",
   "pygments_lexer": "ipython3",
   "version": "3.11.9"
  }
 },
 "nbformat": 4,
 "nbformat_minor": 2
}
